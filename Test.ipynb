{
 "cells": [
  {
   "cell_type": "markdown",
   "source": [
    "# Snakes and Ladders"
   ],
   "metadata": {
    "collapsed": false
   },
   "id": "83c11d326709350d"
  },
  {
   "cell_type": "markdown",
   "source": [
    "Solution and Implementation by Augusto Ferreira\n",
    "Date: 2023/12/07"
   ],
   "metadata": {
    "collapsed": false
   },
   "id": "b523641ceb7f80e6"
  },
  {
   "cell_type": "markdown",
   "source": [
    "You and your friend are playing your old Snakes and Ladders board game. Each player begins on square 1 and takes turns rolling a fair 6-sided die. The player moves the number of spaces indicated on the die. If you land at the bottom of a ladder, you automatically move to the square at the top of the ladder. Conversely, if you land on a snake head, then you fall to the square at the snake's tail. The winner is the first person to make it onto or past the last square.\n",
    "\n",
    "Being interested in analytics, you decide to run simulations of 10,000 games to understand your odds of winning under different scenarios. Consider each scenario independent of the other scenarios.\n",
    "\n",
    "Please answer the following questions using any means available. We would like you to keep a record of your work and walk us through your solution. We are primarily interested in your approach and code, rather than the final answers."
   ],
   "metadata": {
    "collapsed": false
   },
   "id": "124be2d0ecec6057"
  },
  {
   "cell_type": "markdown",
   "source": [
    "![Game Board](game_board.png \"Game Board\")"
   ],
   "metadata": {
    "collapsed": false
   },
   "id": "35ff0037118275ce"
  },
  {
   "cell_type": "markdown",
   "source": [
    "## Code\n",
    "The implementation for classes and the game itself are available in this repository. You can check the in the Python files."
   ],
   "metadata": {
    "collapsed": false
   },
   "id": "913e1f330342849a"
  },
  {
   "cell_type": "markdown",
   "source": [
    "## Imports and execution\n",
    "We only need to import a function to process the input file, which contains the coordinates for the snakes and for the ladders. We also need to import the function that plays the game and return the winner."
   ],
   "metadata": {
    "collapsed": false
   },
   "id": "623d8427f8ffbbdc"
  },
  {
   "cell_type": "code",
   "execution_count": 10,
   "outputs": [],
   "source": [
    "from main import play_round, process_input"
   ],
   "metadata": {
    "collapsed": true,
    "ExecuteTime": {
     "end_time": "2023-12-10T23:40:44.123620Z",
     "start_time": "2023-12-10T23:40:44.097681Z"
    }
   },
   "id": "initial_id"
  },
  {
   "cell_type": "markdown",
   "source": [],
   "metadata": {
    "collapsed": false
   },
   "id": "442d1515d6763f9c"
  },
  {
   "cell_type": "code",
   "execution_count": 11,
   "outputs": [],
   "source": [
    "from Player import Player\n",
    "\n",
    "p1 = Player(\"Ale\")\n",
    "p2 = Player(\"Augusto\")\n",
    "\n",
    "players = [p1, p2]\n",
    "\n",
    "moves, board = process_input(\"input0.json\")"
   ],
   "metadata": {
    "collapsed": false,
    "ExecuteTime": {
     "end_time": "2023-12-10T23:40:44.146802Z",
     "start_time": "2023-12-10T23:40:44.131251Z"
    }
   },
   "id": "73c5ffadabe50f3"
  },
  {
   "cell_type": "markdown",
   "source": [
    "## Questions"
   ],
   "metadata": {
    "collapsed": false
   },
   "id": "a91230f1be742e85"
  },
  {
   "cell_type": "markdown",
   "source": [
    "___\n",
    "### Question 1\n",
    "In a two person game, what is the probability that the player who starts the game wins?"
   ],
   "metadata": {
    "collapsed": false
   },
   "id": "54aeba1e278598bf"
  },
  {
   "cell_type": "code",
   "execution_count": 12,
   "outputs": [
    {
     "name": "stdout",
     "output_type": "stream",
     "text": [
      "Ale 0.52346\n",
      "Augusto 0.47654\n"
     ]
    }
   ],
   "source": [
    "runs = 100000\n",
    "\n",
    "winners = []\n",
    "for _ in range(0, runs):\n",
    "    winner = play_round(players, board, moves)\n",
    "\n",
    "    # Save the winner's name\n",
    "    winners.append(winner.name)\n",
    "\n",
    "    # Don't forget to reset the player current cell before playing again\n",
    "    [p.reset() for p in players]\n",
    "    \n",
    "for p in players:\n",
    "    print(p.name, winners.count(p.name) / len(winners))"
   ],
   "metadata": {
    "collapsed": false,
    "ExecuteTime": {
     "end_time": "2023-12-10T23:40:47.761276Z",
     "start_time": "2023-12-10T23:40:44.208907Z"
    }
   },
   "id": "9cf25430fa542ddf"
  },
  {
   "cell_type": "markdown",
   "source": [
    "Considering Ale as the first player, the probability of her wins is about 53%."
   ],
   "metadata": {
    "collapsed": false
   },
   "id": "c1639748d60ea542"
  },
  {
   "cell_type": "markdown",
   "source": [
    "___\n",
    "### Question 2\n",
    "On average, how many snakes are landed on in each game?"
   ],
   "metadata": {
    "collapsed": false
   },
   "id": "188147641ff1b06"
  },
  {
   "cell_type": "code",
   "execution_count": 13,
   "outputs": [
    {
     "name": "stdout",
     "output_type": "stream",
     "text": [
      "Average snakes:  3.17262\n"
     ]
    }
   ],
   "source": [
    "from MoveType import MoveType\n",
    "average_sakes = 0\n",
    "for _ in range(0, runs):\n",
    "    lands = []\n",
    "    play_round(players, board, moves)\n",
    "\n",
    "    # Save all the cell lands\n",
    "    lands += [x for x in p.history for p in players]\n",
    "    # Using an enum to count is faster than a string comparison\n",
    "    average_sakes += lands.count(MoveType.SNAKE)\n",
    "\n",
    "    # Don't forget to reset the player current cell before playing again\n",
    "    [p.reset() for p in players]\n",
    "\n",
    "print(\"Average snakes: \", float(average_sakes / runs))"
   ],
   "metadata": {
    "collapsed": false,
    "ExecuteTime": {
     "end_time": "2023-12-10T23:40:51.683974Z",
     "start_time": "2023-12-10T23:40:47.759324Z"
    }
   },
   "id": "f0f04daaf97e2d2f"
  },
  {
   "cell_type": "markdown",
   "source": [
    "Answer:"
   ],
   "metadata": {
    "collapsed": false
   },
   "id": "8f08112736cf1f8a"
  },
  {
   "cell_type": "markdown",
   "source": [
    "___\n",
    "### Question 3\n",
    "If each time a player landed on a ladder and there was only a 50% chance they could take it, what is the average number of rolls needed to complete a game?"
   ],
   "metadata": {
    "collapsed": false
   },
   "id": "93b19ede150303df"
  },
  {
   "cell_type": "code",
   "execution_count": 13,
   "outputs": [],
   "source": [],
   "metadata": {
    "collapsed": false,
    "ExecuteTime": {
     "end_time": "2023-12-10T23:40:51.685739Z",
     "start_time": "2023-12-10T23:40:51.679502Z"
    }
   },
   "id": "320516c8c2fa0071"
  },
  {
   "cell_type": "markdown",
   "source": [
    "Answer:"
   ],
   "metadata": {
    "collapsed": false
   },
   "id": "9cb1881b765f9530"
  },
  {
   "cell_type": "markdown",
   "source": [
    "___\n",
    "### Question 4\n",
    "Starting with the base game, you decide you want the game to have approximately fair odds. You do this by changing the square that Player 2 starts on. Which square for Player 2’s start position gives the closest to equal odds for both players?"
   ],
   "metadata": {
    "collapsed": false
   },
   "id": "bcb58418c7f12213"
  },
  {
   "cell_type": "code",
   "execution_count": 13,
   "outputs": [],
   "source": [],
   "metadata": {
    "collapsed": false,
    "ExecuteTime": {
     "end_time": "2023-12-10T23:40:51.695942Z",
     "start_time": "2023-12-10T23:40:51.689090Z"
    }
   },
   "id": "ae4090a3faee9fac"
  },
  {
   "cell_type": "markdown",
   "source": [
    "Answer:"
   ],
   "metadata": {
    "collapsed": false
   },
   "id": "8d6fd3c7eececc00"
  },
  {
   "cell_type": "markdown",
   "source": [
    "___\n",
    "### Question 5\n",
    "In a different attempt to change the odds of the game, instead of starting Player 2 on a different square, you decide to give Player 2 immunity to the first snake that they land on. What is the approximate probability that Player 1 wins now?"
   ],
   "metadata": {
    "collapsed": false
   },
   "id": "cfc5e583a4acab0d"
  },
  {
   "cell_type": "code",
   "execution_count": 13,
   "outputs": [],
   "source": [],
   "metadata": {
    "collapsed": false,
    "ExecuteTime": {
     "end_time": "2023-12-10T23:40:51.727861Z",
     "start_time": "2023-12-10T23:40:51.696182Z"
    }
   },
   "id": "d337b5e00acbe7ba"
  },
  {
   "cell_type": "markdown",
   "source": [
    "Answer:"
   ],
   "metadata": {
    "collapsed": false
   },
   "id": "b38f3782de7c3c50"
  }
 ],
 "metadata": {
  "kernelspec": {
   "display_name": "Python 3",
   "language": "python",
   "name": "python3"
  },
  "language_info": {
   "codemirror_mode": {
    "name": "ipython",
    "version": 2
   },
   "file_extension": ".py",
   "mimetype": "text/x-python",
   "name": "python",
   "nbconvert_exporter": "python",
   "pygments_lexer": "ipython2",
   "version": "2.7.6"
  }
 },
 "nbformat": 4,
 "nbformat_minor": 5
}
