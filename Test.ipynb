{
 "cells": [
  {
   "cell_type": "markdown",
   "source": [
    "# Snakes and Ladders"
   ],
   "metadata": {
    "collapsed": false
   },
   "id": "83c11d326709350d"
  },
  {
   "cell_type": "markdown",
   "source": [
    "Solution and Implementation by Augusto Ferreira\n",
    "Date: 2023/12/07"
   ],
   "metadata": {
    "collapsed": false
   },
   "id": "b523641ceb7f80e6"
  },
  {
   "cell_type": "markdown",
   "source": [
    "You and your friend are playing your old Snakes and Ladders board game. Each player begins on square 1 and takes turns rolling a fair 6-sided die. The player moves the number of spaces indicated on the die. If you land at the bottom of a ladder, you automatically move to the square at the top of the ladder. Conversely, if you land on a snake head, then you fall to the square at the snake's tail. The winner is the first person to make it onto or past the last square.\n",
    "\n",
    "Being interested in analytics, you decide to run simulations of 10,000 games to understand your odds of winning under different scenarios. Consider each scenario independent of the other scenarios.\n",
    "\n",
    "Please answer the following questions using any means available. We would like you to keep a record of your work and walk us through your solution. We are primarily interested in your approach and code, rather than the final answers."
   ],
   "metadata": {
    "collapsed": false
   },
   "id": "124be2d0ecec6057"
  },
  {
   "cell_type": "markdown",
   "source": [
    "![Game Board](game_board.png \"Game Board\")"
   ],
   "metadata": {
    "collapsed": false
   },
   "id": "35ff0037118275ce"
  },
  {
   "cell_type": "markdown",
   "source": [
    "## Code\n",
    "The implementation for classes and the game itself are available in this repository. You can check the in the Python files."
   ],
   "metadata": {
    "collapsed": false
   },
   "id": "913e1f330342849a"
  },
  {
   "cell_type": "markdown",
   "source": [
    "## Imports and execution\n",
    "We only need to import a function to process the input file, which contains the coordinates for the snakes and for the ladders. We also need to import the function that plays the game and return the winner."
   ],
   "metadata": {
    "collapsed": false
   },
   "id": "623d8427f8ffbbdc"
  },
  {
   "cell_type": "code",
   "execution_count": 16,
   "outputs": [],
   "source": [
    "from main import process_input\n",
    "from Game import play_round\n",
    "from Game import play_round_immunity"
   ],
   "metadata": {
    "collapsed": true,
    "ExecuteTime": {
     "end_time": "2023-12-11T01:52:15.869351Z",
     "start_time": "2023-12-11T01:52:15.827881Z"
    }
   },
   "id": "initial_id"
  },
  {
   "cell_type": "markdown",
   "source": [],
   "metadata": {
    "collapsed": false
   },
   "id": "442d1515d6763f9c"
  },
  {
   "cell_type": "code",
   "execution_count": 17,
   "outputs": [],
   "source": [
    "from Player import Player\n",
    "\n",
    "p1 = Player(\"Ale\")\n",
    "p2 = Player(\"Augusto\")\n",
    "\n",
    "players = [p1, p2]\n",
    "\n",
    "moves, board = process_input(\"input0.json\")\n",
    "\n",
    "runs = 10000"
   ],
   "metadata": {
    "collapsed": false,
    "ExecuteTime": {
     "end_time": "2023-12-11T01:52:15.888442Z",
     "start_time": "2023-12-11T01:52:15.876671Z"
    }
   },
   "id": "73c5ffadabe50f3"
  },
  {
   "cell_type": "markdown",
   "source": [
    "## Questions"
   ],
   "metadata": {
    "collapsed": false
   },
   "id": "a91230f1be742e85"
  },
  {
   "cell_type": "markdown",
   "source": [
    "___\n",
    "### Question 1\n",
    "In a two person game, what is the probability that the player who starts the game wins?"
   ],
   "metadata": {
    "collapsed": false
   },
   "id": "54aeba1e278598bf"
  },
  {
   "cell_type": "code",
   "execution_count": 18,
   "outputs": [
    {
     "name": "stdout",
     "output_type": "stream",
     "text": [
      "Ale 0.5292\n",
      "Augusto 0.4708\n"
     ]
    }
   ],
   "source": [
    "winners = []\n",
    "for _ in range(0, runs):\n",
    "    winner = play_round(players, board, moves)\n",
    "\n",
    "    # Save the winner's name\n",
    "    winners.append(winner.name)\n",
    "\n",
    "    # Don't forget to reset the player current cell before playing again\n",
    "    [p.reset() for p in players]\n",
    "    \n",
    "for p in players:\n",
    "    print(p.name, winners.count(p.name) / len(winners))"
   ],
   "metadata": {
    "collapsed": false,
    "ExecuteTime": {
     "end_time": "2023-12-11T01:52:16.335027Z",
     "start_time": "2023-12-11T01:52:15.934544Z"
    }
   },
   "id": "9cf25430fa542ddf"
  },
  {
   "cell_type": "markdown",
   "source": [
    "Considering Ale as the first player, the probability of her wins is about 53%."
   ],
   "metadata": {
    "collapsed": false
   },
   "id": "c1639748d60ea542"
  },
  {
   "cell_type": "markdown",
   "source": [
    "___\n",
    "### Question 2\n",
    "On average, how many snakes are landed on in each game?"
   ],
   "metadata": {
    "collapsed": false
   },
   "id": "188147641ff1b06"
  },
  {
   "cell_type": "code",
   "execution_count": 19,
   "outputs": [
    {
     "name": "stdout",
     "output_type": "stream",
     "text": [
      "Average snakes:  3.128\n"
     ]
    }
   ],
   "source": [
    "from MoveType import MoveType\n",
    "average_sakes = 0\n",
    "for _ in range(0, runs):\n",
    "    lands = []\n",
    "    play_round(players, board, moves)\n",
    "\n",
    "    # Save all the cell lands\n",
    "    lands += [x for x in p.history for p in players]\n",
    "    # Using an enum to count is faster than a string comparison\n",
    "    average_sakes += lands.count(MoveType.SNAKE)\n",
    "\n",
    "    # Don't forget to reset the player current cell before playing again\n",
    "    [p.reset() for p in players]\n",
    "\n",
    "print(\"Average snakes: \", float(average_sakes / runs))"
   ],
   "metadata": {
    "collapsed": false,
    "ExecuteTime": {
     "end_time": "2023-12-11T01:52:16.797591Z",
     "start_time": "2023-12-11T01:52:16.343748Z"
    }
   },
   "id": "f0f04daaf97e2d2f"
  },
  {
   "cell_type": "markdown",
   "source": [
    "___\n",
    "### Question 3\n",
    "If each time a player landed on a ladder and there was only a 50% chance they could take it, what is the average number of rolls needed to complete a game?"
   ],
   "metadata": {
    "collapsed": false
   },
   "id": "93b19ede150303df"
  },
  {
   "cell_type": "code",
   "execution_count": 19,
   "outputs": [],
   "source": [],
   "metadata": {
    "collapsed": false,
    "ExecuteTime": {
     "end_time": "2023-12-11T01:52:16.804046Z",
     "start_time": "2023-12-11T01:52:16.798053Z"
    }
   },
   "id": "320516c8c2fa0071"
  },
  {
   "cell_type": "markdown",
   "source": [
    "Answer:"
   ],
   "metadata": {
    "collapsed": false
   },
   "id": "9cb1881b765f9530"
  },
  {
   "cell_type": "markdown",
   "source": [
    "___\n",
    "### Question 4\n",
    "Starting with the base game, you decide you want the game to have approximately fair odds. You do this by changing the square that Player 2 starts on. Which square for Player 2’s start position gives the closest to equal odds for both players?"
   ],
   "metadata": {
    "collapsed": false
   },
   "id": "bcb58418c7f12213"
  },
  {
   "cell_type": "code",
   "execution_count": 20,
   "outputs": [],
   "source": [
    "import pandas as pd\n",
    "results = {\n",
    "    \"Square\": [],\n",
    "    \"Player1\": [],\n",
    "    \"Player2\": [],\n",
    "}\n",
    "\n",
    "for initial_square in range(1, board.last_cell):\n",
    "    results[\"Square\"].append(initial_square)\n",
    "    winners = []\n",
    "    for _ in range(0, runs):\n",
    "        # Start p2 at the i_th square\n",
    "        p2.current = initial_square\n",
    "\n",
    "        winner = play_round(players, board, moves)\n",
    "\n",
    "        # Save the winner's name\n",
    "        winners.append(winner.name)\n",
    "\n",
    "        # Don't forget to reset the player current cell before playing again\n",
    "        [p.reset() for p in players]\n",
    "\n",
    "    results[\"Player1\"].append(winners.count(p1.name) / len(winners))\n",
    "    results[\"Player2\"].append(winners.count(p2.name) / len(winners))"
   ],
   "metadata": {
    "collapsed": false,
    "ExecuteTime": {
     "end_time": "2023-12-11T01:52:25.542833Z",
     "start_time": "2023-12-11T01:52:16.853895Z"
    }
   },
   "id": "4b9b73d9166c0964"
  },
  {
   "cell_type": "code",
   "execution_count": 21,
   "outputs": [
    {
     "data": {
      "text/plain": "<IPython.core.display.HTML object>",
      "text/html": "<table border=\"1\" class=\"dataframe\">\n  <thead>\n    <tr style=\"text-align: right;\">\n      <th>Square</th>\n      <th>Player1</th>\n      <th>Player2</th>\n    </tr>\n  </thead>\n  <tbody>\n    <tr>\n      <td>1</td>\n      <td>0.5170</td>\n      <td>0.4830</td>\n    </tr>\n    <tr>\n      <td>2</td>\n      <td>0.5140</td>\n      <td>0.4860</td>\n    </tr>\n    <tr>\n      <td>3</td>\n      <td>0.5460</td>\n      <td>0.4540</td>\n    </tr>\n    <tr>\n      <td>4</td>\n      <td>0.5354</td>\n      <td>0.4646</td>\n    </tr>\n    <tr>\n      <td>5</td>\n      <td>0.5208</td>\n      <td>0.4792</td>\n    </tr>\n    <tr>\n      <td>6</td>\n      <td>0.5061</td>\n      <td>0.4939</td>\n    </tr>\n    <tr>\n      <td>7</td>\n      <td>0.5088</td>\n      <td>0.4912</td>\n    </tr>\n    <tr>\n      <td>8</td>\n      <td>0.4758</td>\n      <td>0.5242</td>\n    </tr>\n    <tr>\n      <td>9</td>\n      <td>0.4437</td>\n      <td>0.5563</td>\n    </tr>\n    <tr>\n      <td>10</td>\n      <td>0.4166</td>\n      <td>0.5834</td>\n    </tr>\n    <tr>\n      <td>11</td>\n      <td>0.4368</td>\n      <td>0.5632</td>\n    </tr>\n    <tr>\n      <td>12</td>\n      <td>0.3770</td>\n      <td>0.6230</td>\n    </tr>\n    <tr>\n      <td>13</td>\n      <td>0.3401</td>\n      <td>0.6599</td>\n    </tr>\n    <tr>\n      <td>14</td>\n      <td>0.3254</td>\n      <td>0.6746</td>\n    </tr>\n    <tr>\n      <td>15</td>\n      <td>0.2949</td>\n      <td>0.7051</td>\n    </tr>\n    <tr>\n      <td>16</td>\n      <td>0.2792</td>\n      <td>0.7208</td>\n    </tr>\n    <tr>\n      <td>17</td>\n      <td>0.2249</td>\n      <td>0.7751</td>\n    </tr>\n    <tr>\n      <td>18</td>\n      <td>0.2274</td>\n      <td>0.7726</td>\n    </tr>\n    <tr>\n      <td>19</td>\n      <td>0.2225</td>\n      <td>0.7775</td>\n    </tr>\n    <tr>\n      <td>20</td>\n      <td>0.2102</td>\n      <td>0.7898</td>\n    </tr>\n    <tr>\n      <td>21</td>\n      <td>0.2294</td>\n      <td>0.7706</td>\n    </tr>\n    <tr>\n      <td>22</td>\n      <td>0.2131</td>\n      <td>0.7869</td>\n    </tr>\n    <tr>\n      <td>23</td>\n      <td>0.2035</td>\n      <td>0.7965</td>\n    </tr>\n    <tr>\n      <td>24</td>\n      <td>0.1908</td>\n      <td>0.8092</td>\n    </tr>\n    <tr>\n      <td>25</td>\n      <td>0.1951</td>\n      <td>0.8049</td>\n    </tr>\n    <tr>\n      <td>26</td>\n      <td>0.1754</td>\n      <td>0.8246</td>\n    </tr>\n    <tr>\n      <td>27</td>\n      <td>0.1474</td>\n      <td>0.8526</td>\n    </tr>\n    <tr>\n      <td>28</td>\n      <td>0.1314</td>\n      <td>0.8686</td>\n    </tr>\n    <tr>\n      <td>29</td>\n      <td>0.1427</td>\n      <td>0.8573</td>\n    </tr>\n    <tr>\n      <td>30</td>\n      <td>0.1204</td>\n      <td>0.8796</td>\n    </tr>\n    <tr>\n      <td>31</td>\n      <td>0.0742</td>\n      <td>0.9258</td>\n    </tr>\n    <tr>\n      <td>32</td>\n      <td>0.0578</td>\n      <td>0.9422</td>\n    </tr>\n    <tr>\n      <td>33</td>\n      <td>0.0532</td>\n      <td>0.9468</td>\n    </tr>\n    <tr>\n      <td>34</td>\n      <td>0.0434</td>\n      <td>0.9566</td>\n    </tr>\n    <tr>\n      <td>35</td>\n      <td>0.0000</td>\n      <td>1.0000</td>\n    </tr>\n  </tbody>\n</table>"
     },
     "metadata": {},
     "output_type": "display_data"
    }
   ],
   "source": [
    "df = pd.DataFrame(results)\n",
    "\n",
    "from IPython.display import display, HTML\n",
    "display(HTML(df.to_html(index=False)))"
   ],
   "metadata": {
    "collapsed": false,
    "ExecuteTime": {
     "end_time": "2023-12-11T01:52:25.557989Z",
     "start_time": "2023-12-11T01:52:25.546784Z"
    }
   },
   "id": "ae4090a3faee9fac"
  },
  {
   "cell_type": "markdown",
   "source": [
    "Answer: As we can see in the table above, the start cell for Player 2 that give approximate equals odds for both players is the square number 5."
   ],
   "metadata": {
    "collapsed": false
   },
   "id": "8d6fd3c7eececc00"
  },
  {
   "cell_type": "markdown",
   "source": [
    "___\n",
    "### Question 5\n",
    "In a different attempt to change the odds of the game, instead of starting Player 2 on a different square, you decide to give Player 2 immunity to the first snake that they land on. What is the approximate probability that Player 1 wins now?"
   ],
   "metadata": {
    "collapsed": false
   },
   "id": "cfc5e583a4acab0d"
  },
  {
   "cell_type": "code",
   "execution_count": 22,
   "outputs": [
    {
     "name": "stdout",
     "output_type": "stream",
     "text": [
      "Ale 0.4207\n",
      "Augusto 0.5793\n"
     ]
    }
   ],
   "source": [
    "winners = []\n",
    "for _ in range(0, runs):\n",
    "    winner = play_round_immunity(players, board, moves)\n",
    "\n",
    "    # Save the winner's name\n",
    "    winners.append(winner.name)\n",
    "\n",
    "    # Don't forget to reset the player current cell before playing again\n",
    "    [p.reset() for p in players]\n",
    "    \n",
    "for p in players:\n",
    "    print(p.name, winners.count(p.name) / len(winners))"
   ],
   "metadata": {
    "collapsed": false,
    "ExecuteTime": {
     "end_time": "2023-12-11T01:52:26.147766Z",
     "start_time": "2023-12-11T01:52:25.597732Z"
    }
   },
   "id": "d337b5e00acbe7ba"
  },
  {
   "cell_type": "markdown",
   "source": [
    "Answer: The probability of Player 1 reduces approximately from 53% to 43%. Considering the low average of snakes in the game (3), the immunity of one snake is enough to change a lot in the scenario."
   ],
   "metadata": {
    "collapsed": false
   },
   "id": "b38f3782de7c3c50"
  }
 ],
 "metadata": {
  "kernelspec": {
   "display_name": "Python 3",
   "language": "python",
   "name": "python3"
  },
  "language_info": {
   "codemirror_mode": {
    "name": "ipython",
    "version": 2
   },
   "file_extension": ".py",
   "mimetype": "text/x-python",
   "name": "python",
   "nbconvert_exporter": "python",
   "pygments_lexer": "ipython2",
   "version": "2.7.6"
  }
 },
 "nbformat": 4,
 "nbformat_minor": 5
}
