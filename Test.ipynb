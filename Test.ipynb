{
 "cells": [
  {
   "cell_type": "markdown",
   "source": [
    "# Snakes and Ladders"
   ],
   "metadata": {
    "collapsed": false
   },
   "id": "83c11d326709350d"
  },
  {
   "cell_type": "markdown",
   "source": [
    "You and your friend are playing your old Snakes and Ladders board game. Each player begins on square 1 and takes turns rolling a fair 6-sided die. The player moves the number of spaces indicated on the die. If you land at the bottom of a ladder, you automatically move to the square at the top of the ladder. Conversely, if you land on a snake head, then you fall to the square at the snake's tail. The winner is the first person to make it onto or past the last square.\n",
    "\n",
    "Being interested in analytics, you decide to run simulations of 10,000 games to understand your odds of winning under different scenarios. Consider each scenario independent of the other scenarios.\n",
    "\n",
    "Please answer the following questions using any means available. We would like you to keep a record of your work and walk us through your solution. We are primarily interested in your approach and code, rather than the final answers."
   ],
   "metadata": {
    "collapsed": false
   },
   "id": "124be2d0ecec6057"
  },
  {
   "cell_type": "markdown",
   "source": [],
   "metadata": {
    "collapsed": false
   },
   "id": "35ff0037118275ce"
  },
  {
   "cell_type": "code",
   "execution_count": 4,
   "outputs": [],
   "source": [
    "from main import play_round, process_input"
   ],
   "metadata": {
    "collapsed": true,
    "ExecuteTime": {
     "end_time": "2023-12-10T23:00:11.811982Z",
     "start_time": "2023-12-10T23:00:11.740448Z"
    }
   },
   "id": "initial_id"
  },
  {
   "cell_type": "markdown",
   "source": [],
   "metadata": {
    "collapsed": false
   },
   "id": "442d1515d6763f9c"
  },
  {
   "cell_type": "code",
   "execution_count": 5,
   "outputs": [],
   "source": [
    "from Player import Player\n",
    "\n",
    "p1 = Player(\"Ale\")\n",
    "p2 = Player(\"Augusto\")\n",
    "\n",
    "players = [p1, p2]\n",
    "\n",
    "moves, board = process_input(\"input0.json\")"
   ],
   "metadata": {
    "collapsed": false,
    "ExecuteTime": {
     "end_time": "2023-12-10T23:00:11.961811Z",
     "start_time": "2023-12-10T23:00:11.821328Z"
    }
   },
   "id": "73c5ffadabe50f3"
  },
  {
   "cell_type": "markdown",
   "source": [
    "### Question 1\n",
    "In a two person game, what is the probability that the player who starts the game wins?"
   ],
   "metadata": {
    "collapsed": false
   },
   "id": "54aeba1e278598bf"
  },
  {
   "cell_type": "code",
   "execution_count": 6,
   "outputs": [
    {
     "name": "stdout",
     "output_type": "stream",
     "text": [
      "Ale 0.5323\n",
      "Augusto 0.4677\n"
     ]
    }
   ],
   "source": [
    "winners = []\n",
    "for i in range(0, 10000):\n",
    "    winner = play_round(players, board, moves)\n",
    "    winners.append(winner.name)\n",
    "    [p.reset() for p in players]\n",
    "\n",
    "for p in players:\n",
    "    print(p.name, winners.count(p.name) / len(winners))"
   ],
   "metadata": {
    "collapsed": false,
    "ExecuteTime": {
     "end_time": "2023-12-10T23:00:12.454154Z",
     "start_time": "2023-12-10T23:00:11.936524Z"
    }
   },
   "id": "9cf25430fa542ddf"
  },
  {
   "cell_type": "markdown",
   "source": [
    "### Question 2\n",
    "On average, how many snakes are landed on in each game?"
   ],
   "metadata": {
    "collapsed": false
   },
   "id": "188147641ff1b06"
  }
 ],
 "metadata": {
  "kernelspec": {
   "display_name": "Python 3",
   "language": "python",
   "name": "python3"
  },
  "language_info": {
   "codemirror_mode": {
    "name": "ipython",
    "version": 2
   },
   "file_extension": ".py",
   "mimetype": "text/x-python",
   "name": "python",
   "nbconvert_exporter": "python",
   "pygments_lexer": "ipython2",
   "version": "2.7.6"
  }
 },
 "nbformat": 4,
 "nbformat_minor": 5
}
