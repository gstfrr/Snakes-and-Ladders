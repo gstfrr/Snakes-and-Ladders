{
 "cells": [
  {
   "cell_type": "code",
   "execution_count": 6,
   "id": "initial_id",
   "metadata": {
    "collapsed": true,
    "ExecuteTime": {
     "end_time": "2023-12-10T22:05:10.044047Z",
     "start_time": "2023-12-10T22:05:09.921583Z"
    }
   },
   "outputs": [],
   "source": [
    "from main import play_round\n",
    "import json"
   ]
  },
  {
   "cell_type": "code",
   "execution_count": 7,
   "outputs": [],
   "source": [
    "from Dice import Dice\n",
    "from Board import Board\n",
    "\n",
    "from Player import Player"
   ],
   "metadata": {
    "collapsed": false,
    "ExecuteTime": {
     "end_time": "2023-12-10T22:05:10.176965Z",
     "start_time": "2023-12-10T22:05:10.090317Z"
    }
   },
   "id": "14548a5425c3027"
  },
  {
   "cell_type": "code",
   "execution_count": 8,
   "outputs": [
    {
     "name": "stdout",
     "output_type": "stream",
     "text": [
      "Ale\t Augusto\n",
      "16\t 0\n",
      "16\t 6\n",
      "4\t 6\n",
      "4\t 10\n",
      "8\t 10\n",
      "8\t 11\n",
      "9\t 11\n",
      "9\t 14\n",
      "10\t 14\n",
      "10\t 20\n",
      "16\t 20\n",
      "16\t 22\n",
      "32\t 22\n",
      "32\t 27\n",
      "34\t 27\n",
      "34\t 33\n",
      "36\t 33\n",
      "winner is  Ale\n",
      "Ale\n"
     ]
    }
   ],
   "source": [
    "p1 = Player(\"Ale\")\n",
    "p2 = Player(\"Augusto\")\n",
    "\n",
    "players = [p1, p2]\n",
    "\n",
    "with open(\"input_dict0.json\") as json_file:\n",
    "    json_input = json.load(json_file)\n",
    "    board = Board(json_input[\"width\"], json_input[\"height\"])\n",
    "\n",
    "    # Transfer input moves to dictionary with integer keys, to get access time in O(1)\n",
    "    moves = {int(k): int(v) for k, v in json_input[\"moves\"].items()}\n",
    "\n",
    "    # Play the game\n",
    "    winner = play_round(players, board, moves)\n",
    "    print(winner.name)"
   ],
   "metadata": {
    "collapsed": false,
    "ExecuteTime": {
     "end_time": "2023-12-10T22:05:10.291048Z",
     "start_time": "2023-12-10T22:05:10.172230Z"
    }
   },
   "id": "9cf25430fa542ddf"
  }
 ],
 "metadata": {
  "kernelspec": {
   "display_name": "Python 3",
   "language": "python",
   "name": "python3"
  },
  "language_info": {
   "codemirror_mode": {
    "name": "ipython",
    "version": 2
   },
   "file_extension": ".py",
   "mimetype": "text/x-python",
   "name": "python",
   "nbconvert_exporter": "python",
   "pygments_lexer": "ipython2",
   "version": "2.7.6"
  }
 },
 "nbformat": 4,
 "nbformat_minor": 5
}
